{
  "nbformat": 4,
  "nbformat_minor": 0,
  "metadata": {
    "colab": {
      "provenance": [],
      "gpuType": "T4"
    },
    "kernelspec": {
      "name": "python3",
      "display_name": "Python 3"
    },
    "language_info": {
      "name": "python"
    },
    "accelerator": "GPU"
  },
  "cells": [
    {
      "cell_type": "code",
      "execution_count": 1,
      "metadata": {
        "id": "OLoA3TVPJoib",
        "colab": {
          "base_uri": "https://localhost:8080/"
        },
        "outputId": "b9542b08-18ad-4a0a-ae63-b84aa1c7420e"
      },
      "outputs": [
        {
          "output_type": "execute_result",
          "data": {
            "text/plain": [
              "device(type='cuda')"
            ]
          },
          "metadata": {},
          "execution_count": 1
        }
      ],
      "source": [
        "import random\n",
        "import torch\n",
        "\n",
        "device = torch.device('cuda' if torch.cuda.is_available() else 'cpu')\n",
        "device"
      ]
    },
    {
      "cell_type": "markdown",
      "source": [
        "# Linear Regression from scratch\n",
        "$f(x) = w*x + b$"
      ],
      "metadata": {
        "id": "IqOfSk2kLS7J"
      }
    },
    {
      "cell_type": "code",
      "source": [
        "def forward(x, w, b):\n",
        "  return w * x + b\n",
        "\n",
        "def loss(y, y_pred):\n",
        "  return ((y - y_pred) ** 2).mean()  # Mean Squared Error"
      ],
      "metadata": {
        "id": "2CSnzYmqL0XT"
      },
      "execution_count": 2,
      "outputs": []
    },
    {
      "cell_type": "code",
      "source": [
        "# Training\n",
        "def train(X, y, w, b, n_epochs: int = 100, learning_rate: float = 0.01, print_loss: bool = False):\n",
        "  for epoch in range(n_epochs):\n",
        "    # predict = forward pass\n",
        "    y_pred = forward(X, w, b)\n",
        "\n",
        "    # loss\n",
        "    l = loss(y, y_pred)\n",
        "\n",
        "    # calculate gradients = backward pass\n",
        "    l.backward()\n",
        "\n",
        "    # update parameters (weights)\n",
        "    # w.data = w.data - learning rate * w.grad\n",
        "    with torch.no_grad():\n",
        "      w -= learning_rate * w.grad\n",
        "      b -= learning_rate * b.grad\n",
        "\n",
        "    # zero the gradients after updating\n",
        "    w.grad.zero_()\n",
        "    b.grad.zero_()\n",
        "\n",
        "    if print_loss and (epoch + 1) % 10 == 0:\n",
        "      print(f'epoch {epoch + 1}:\\tw = {w.item()},\\tb = {b.item()},\\tloss = {l.item()}')\n",
        "\n",
        "  return w, b\n",
        "\n",
        "def predict(X, w, b):\n",
        "  return forward(X, w, b).item()"
      ],
      "metadata": {
        "id": "d-XChsngMYm4"
      },
      "execution_count": 3,
      "outputs": []
    },
    {
      "cell_type": "code",
      "source": [
        "# f(x) = 2 * x\n",
        "def f(x):\n",
        "  return 2 * x\n",
        "\n",
        "abscissae: list[float] = list(range(1, 6))\n",
        "ordinates: list[float] = [f(x) for x in abscissae]\n",
        "\n",
        "abscissae, ordinates"
      ],
      "metadata": {
        "colab": {
          "base_uri": "https://localhost:8080/"
        },
        "id": "gThGpLKXLl_w",
        "outputId": "6fcce649-6770-430c-be6b-e4a0cd21cb6c"
      },
      "execution_count": 4,
      "outputs": [
        {
          "output_type": "execute_result",
          "data": {
            "text/plain": [
              "([1, 2, 3, 4, 5], [2, 4, 6, 8, 10])"
            ]
          },
          "metadata": {},
          "execution_count": 4
        }
      ]
    },
    {
      "cell_type": "code",
      "source": [
        "X = torch.tensor(abscissae, dtype=torch.float32)\n",
        "y = torch.tensor(ordinates, dtype=torch.float32)\n",
        "\n",
        "# Parameters\n",
        "w = torch.tensor(random.random() * 0.01, dtype=torch.float32, requires_grad=True)\n",
        "b = torch.tensor(0.0, dtype=torch.float32, requires_grad=True)\n",
        "\n",
        "w, b"
      ],
      "metadata": {
        "colab": {
          "base_uri": "https://localhost:8080/"
        },
        "id": "vZiplNGhLWxg",
        "outputId": "bdccc5c3-47c1-44da-f830-a48a7832be8d"
      },
      "execution_count": 5,
      "outputs": [
        {
          "output_type": "execute_result",
          "data": {
            "text/plain": [
              "(tensor(0.0083, requires_grad=True), tensor(0., requires_grad=True))"
            ]
          },
          "metadata": {},
          "execution_count": 5
        }
      ]
    },
    {
      "cell_type": "code",
      "source": [
        "X_test = 4.5\n",
        "print(f'Prediction before training: f({X_test}) = {predict(X_test, w, b)}')\n",
        "w, b = train(X, y, w, b, n_epochs=1000, learning_rate=0.001, print_loss=False)\n",
        "print(f'Prediction before training: f({X_test}) = {predict(X_test, w, b)}')\n",
        "print(f'slope = {w.item()}, intercept = {b.item()}')"
      ],
      "metadata": {
        "colab": {
          "base_uri": "https://localhost:8080/"
        },
        "id": "N81IZ_aeOLZY",
        "outputId": "5f3f8bd0-ccb5-4dd0-e264-17c238d4b53f"
      },
      "execution_count": 6,
      "outputs": [
        {
          "output_type": "stream",
          "name": "stdout",
          "text": [
            "Prediction before training: f(4.5) = 0.037500232458114624\n",
            "Prediction before training: f(4.5) = 8.909967422485352\n",
            "slope = 1.898803472518921, intercept = 0.36535120010375977\n"
          ]
        }
      ]
    },
    {
      "cell_type": "markdown",
      "source": [
        "# Linear Regression using `torch.nn`"
      ],
      "metadata": {
        "id": "7TW7Eni1emGN"
      }
    },
    {
      "cell_type": "code",
      "source": [
        "import torch.nn as nn"
      ],
      "metadata": {
        "id": "fv0h-9p9X5vW"
      },
      "execution_count": 7,
      "outputs": []
    },
    {
      "cell_type": "code",
      "source": [
        "# f(x) = 2 * x\n",
        "def f(x):\n",
        "  return 2 * x\n",
        "\n",
        "abscissae: list[float] = [[i] for i in range(1, 6)]\n",
        "ordinates: list[float] = [[f(x[0])] for x in abscissae]\n",
        "\n",
        "abscissae, ordinates"
      ],
      "metadata": {
        "colab": {
          "base_uri": "https://localhost:8080/"
        },
        "id": "WItzvZj0erJI",
        "outputId": "521965b0-507f-4dbb-fd0a-3ffe7afbc327"
      },
      "execution_count": 8,
      "outputs": [
        {
          "output_type": "execute_result",
          "data": {
            "text/plain": [
              "([[1], [2], [3], [4], [5]], [[2], [4], [6], [8], [10]])"
            ]
          },
          "metadata": {},
          "execution_count": 8
        }
      ]
    },
    {
      "cell_type": "code",
      "source": [
        "X = torch.tensor(abscissae, dtype=torch.float32)\n",
        "y = torch.tensor(ordinates, dtype=torch.float32)\n",
        "\n",
        "n_samples, n_features = X.shape\n",
        "print(f'n_samples = {n_samples}, n_features = {n_features}')\n",
        "\n",
        "X_test = torch.tensor([4.5], dtype=torch.float32)"
      ],
      "metadata": {
        "colab": {
          "base_uri": "https://localhost:8080/"
        },
        "id": "tZ2OLlZwfESB",
        "outputId": "b048bf85-168d-4281-b3d1-c7927f1aae6d"
      },
      "execution_count": 9,
      "outputs": [
        {
          "output_type": "stream",
          "name": "stdout",
          "text": [
            "n_samples = 5, n_features = 1\n"
          ]
        }
      ]
    },
    {
      "cell_type": "code",
      "source": [
        "# Designing the model\n",
        "class LinearRegression(nn.Module):\n",
        "  def __init__(self, input_dim, output_dim) -> None:\n",
        "    super(LinearRegression, self).__init__()\n",
        "\n",
        "    # Define different layers\n",
        "    self.lin = nn.Linear(input_dim, output_dim)\n",
        "\n",
        "  def forward(self, x):\n",
        "    return self.lin(x)\n",
        "\n",
        "\n",
        "input_size = output_size = n_features\n",
        "\n",
        "model = LinearRegression(input_size, output_size)\n",
        "\n",
        "print(f'Prediction before training: f({X_test.item()}) = {model(X_test).item()}')\n",
        "\n",
        "# Define loss and optimizer\n",
        "learning_rate = 0.01\n",
        "n_epochs = 1000\n",
        "\n",
        "loss = nn.MSELoss()\n",
        "optimizer = torch.optim.SGD(model.parameters(), lr=learning_rate)\n",
        "\n",
        "# Training loop\n",
        "for epoch in range(n_epochs):\n",
        "  # predict = forward pass with our model\n",
        "  y_predicted = model(X)\n",
        "\n",
        "  # loss\n",
        "  l = loss(y, y_predicted)\n",
        "\n",
        "  # calculate gradients = backward pass\n",
        "  l.backward()\n",
        "\n",
        "  # update parameters\n",
        "  optimizer.step()\n",
        "\n",
        "  # zero the gradients after updating\n",
        "  optimizer.zero_grad()\n",
        "\n",
        "  if (epoch + 1) % (n_epochs // 10) == 0:\n",
        "    w, b = model.parameters()  # unpack parameters\n",
        "    print(f'epoch: {epoch + 1}:\\tw = {w[0][0].item()}\\tloss = {l.item()}')\n",
        "\n",
        "print(f'Prediction after training: f({X_test.item()}) = {model(X_test).item()}')"
      ],
      "metadata": {
        "colab": {
          "base_uri": "https://localhost:8080/"
        },
        "id": "oCFaY1Vwfr4-",
        "outputId": "d4d7d9f8-4429-46a2-8854-60d50c44ab3a"
      },
      "execution_count": 10,
      "outputs": [
        {
          "output_type": "stream",
          "name": "stdout",
          "text": [
            "Prediction before training: f(4.5) = 0.09508007764816284\n",
            "epoch: 100:\tw = 1.979898452758789\tloss = 0.0009651852888055146\n",
            "epoch: 200:\tw = 1.9856733083724976\tloss = 0.0004902765504084527\n",
            "epoch: 300:\tw = 1.9897890090942383\tloss = 0.0002490445622242987\n",
            "epoch: 400:\tw = 1.992722511291504\tloss = 0.00012650371354538947\n",
            "epoch: 500:\tw = 1.994813323020935\tloss = 6.426281470339745e-05\n",
            "epoch: 600:\tw = 1.9963032007217407\tloss = 3.2642677979310974e-05\n",
            "epoch: 700:\tw = 1.9973652362823486\tloss = 1.6582906027906574e-05\n",
            "epoch: 800:\tw = 1.9981220960617065\tloss = 8.42366716824472e-06\n",
            "epoch: 900:\tw = 1.9986615180969238\tloss = 4.2785950427060015e-06\n",
            "epoch: 1000:\tw = 1.999045968055725\tloss = 2.173748498535133e-06\n",
            "Prediction after training: f(4.5) = 8.999150276184082\n"
          ]
        }
      ]
    }
  ]
}