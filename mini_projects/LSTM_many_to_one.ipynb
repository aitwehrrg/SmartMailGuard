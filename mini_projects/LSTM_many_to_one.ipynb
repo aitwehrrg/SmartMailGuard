{
 "cells": [
  {
   "cell_type": "code",
   "execution_count": 2,
   "metadata": {},
   "outputs": [],
   "source": [
    "import numpy as np\n",
    "\n",
    "class LSTM:\n",
    "  def __init__(self, a0, c0, dimx, dima):\n",
    "      self.a0 = a0\n",
    "      self.c0 = c0\n",
    "      self.Wf = np.random.randn(dima, dima + dimx)\n",
    "      self.Wu = np.random.randn(dima, dima + dimx)\n",
    "      self.Wc = np.random.randn(dima, dima + dimx)\n",
    "      self.Wo = np.random.randn(dima, dima + dimx)\n",
    "      self.bf = np.random.randn(dima, 1)\n",
    "      self.bu = np.random.randn(dima, 1)\n",
    "      self.bc = np.random.randn(dima, 1)\n",
    "      self.bo = np.random.randn(dima, 1)\n",
    "\n",
    "      self.guCache = []\n",
    "      self.gfCache = []\n",
    "      self.goCache = []\n",
    "      self.ctCache = []\n",
    "      self.cCache = []\n",
    "      self.aCache = []\n",
    "\n",
    "      self.t = 0\n",
    "\n",
    "  def forwardOne(self, x, a_prev, c_prev):\n",
    "    self.concat = np.vstack((self.a0, x))\n",
    "    gu = np.tanh(self.Wu @ self.concat + self.bu)\n",
    "    gf = np.tanh(self.Wf @ self.concat + self.bf)\n",
    "    go = np.tanh(self.Wo @ self.concat + self.bo)\n",
    "    ct = np.tanh(self.Wc @ self.concat + self.bc)\n",
    "\n",
    "    c = gu * ct + c_prev * gf\n",
    "    a = go * np.tanh(c)\n",
    "\n",
    "    self.guCache.append(gu)\n",
    "    self.gfCache.append(gf)\n",
    "    self.goCache.append(go)\n",
    "    self.ctCache.append(ct)\n",
    "    self.cCache.append(c)\n",
    "    self.aCache.append(a)\n",
    "\n",
    "    self.t += 1\n",
    "\n",
    "    return a, c\n",
    "  \n",
    "  def forward(self, X):\n",
    "    a = self.a0\n",
    "    c = self.c0\n",
    "    for x in X:\n",
    "      a, c = self.forwardOne(x, a, c)\n",
    "    return a\n",
    "  \n",
    "  # def backwardOne(self, da, dc):\n",
    "\n"
   ]
  },
  {
   "cell_type": "code",
   "execution_count": null,
   "metadata": {},
   "outputs": [],
   "source": []
  }
 ],
 "metadata": {
  "kernelspec": {
   "display_name": "Python 3",
   "language": "python",
   "name": "python3"
  },
  "language_info": {
   "codemirror_mode": {
    "name": "ipython",
    "version": 3
   },
   "file_extension": ".py",
   "mimetype": "text/x-python",
   "name": "python",
   "nbconvert_exporter": "python",
   "pygments_lexer": "ipython3",
   "version": "3.12.4"
  }
 },
 "nbformat": 4,
 "nbformat_minor": 2
}
