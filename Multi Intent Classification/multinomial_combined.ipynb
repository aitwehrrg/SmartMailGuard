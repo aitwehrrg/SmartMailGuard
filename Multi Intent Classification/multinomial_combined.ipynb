{
 "cells": [
  {
   "cell_type": "code",
   "execution_count": 1,
   "id": "5ee07d0a-9841-47b5-af79-f260aaa37f9a",
   "metadata": {},
   "outputs": [],
   "source": [
    "import pandas as pd"
   ]
  },
  {
   "cell_type": "code",
   "execution_count": 2,
   "id": "59c50eaf-30cb-4a79-9e5b-eeafc7d89ee0",
   "metadata": {},
   "outputs": [],
   "source": [
    "df = pd.read_csv(\"final_combined.csv\")"
   ]
  },
  {
   "cell_type": "code",
   "execution_count": 3,
   "id": "d27061c4-7d2e-475a-bea1-3f1582489f49",
   "metadata": {},
   "outputs": [
    {
     "data": {
      "text/html": [
       "<div>\n",
       "<style scoped>\n",
       "    .dataframe tbody tr th:only-of-type {\n",
       "        vertical-align: middle;\n",
       "    }\n",
       "\n",
       "    .dataframe tbody tr th {\n",
       "        vertical-align: top;\n",
       "    }\n",
       "\n",
       "    .dataframe thead th {\n",
       "        text-align: right;\n",
       "    }\n",
       "</style>\n",
       "<table border=\"1\" class=\"dataframe\">\n",
       "  <thead>\n",
       "    <tr style=\"text-align: right;\">\n",
       "      <th></th>\n",
       "      <th>email</th>\n",
       "      <th>category</th>\n",
       "    </tr>\n",
       "  </thead>\n",
       "  <tbody>\n",
       "    <tr>\n",
       "      <th>0</th>\n",
       "      <td>Congratulations! You've won a $1000 Walmart gi...</td>\n",
       "      <td>spam</td>\n",
       "    </tr>\n",
       "    <tr>\n",
       "      <th>1</th>\n",
       "      <td>Join us for a special event this weekend!</td>\n",
       "      <td>social</td>\n",
       "    </tr>\n",
       "    <tr>\n",
       "      <th>2</th>\n",
       "      <td>Limited time offer: 50% off your next purchase!</td>\n",
       "      <td>promotional</td>\n",
       "    </tr>\n",
       "    <tr>\n",
       "      <th>3</th>\n",
       "      <td>Hey, just checking in to see how you're doing.</td>\n",
       "      <td>personal</td>\n",
       "    </tr>\n",
       "    <tr>\n",
       "      <th>4</th>\n",
       "      <td>Your bank statement is ready for review.</td>\n",
       "      <td>finance</td>\n",
       "    </tr>\n",
       "    <tr>\n",
       "      <th>...</th>\n",
       "      <td>...</td>\n",
       "      <td>...</td>\n",
       "    </tr>\n",
       "    <tr>\n",
       "      <th>2998</th>\n",
       "      <td>Please confirm your email address to continue ...</td>\n",
       "      <td>important</td>\n",
       "    </tr>\n",
       "    <tr>\n",
       "      <th>2999</th>\n",
       "      <td>Your scheduled payment is due in 2 days. Check...</td>\n",
       "      <td>important</td>\n",
       "    </tr>\n",
       "    <tr>\n",
       "      <th>3000</th>\n",
       "      <td>Your account requires immediate attention. Ple...</td>\n",
       "      <td>important</td>\n",
       "    </tr>\n",
       "    <tr>\n",
       "      <th>3001</th>\n",
       "      <td>Your recent purchase receipt is available. Che...</td>\n",
       "      <td>finance</td>\n",
       "    </tr>\n",
       "    <tr>\n",
       "      <th>3002</th>\n",
       "      <td>I saw this article and thought you'd love it!</td>\n",
       "      <td>personal</td>\n",
       "    </tr>\n",
       "  </tbody>\n",
       "</table>\n",
       "<p>3003 rows × 2 columns</p>\n",
       "</div>"
      ],
      "text/plain": [
       "                                                  email     category\n",
       "0     Congratulations! You've won a $1000 Walmart gi...         spam\n",
       "1             Join us for a special event this weekend!       social\n",
       "2       Limited time offer: 50% off your next purchase!  promotional\n",
       "3        Hey, just checking in to see how you're doing.     personal\n",
       "4              Your bank statement is ready for review.      finance\n",
       "...                                                 ...          ...\n",
       "2998  Please confirm your email address to continue ...    important\n",
       "2999  Your scheduled payment is due in 2 days. Check...    important\n",
       "3000  Your account requires immediate attention. Ple...    important\n",
       "3001  Your recent purchase receipt is available. Che...      finance\n",
       "3002      I saw this article and thought you'd love it!     personal\n",
       "\n",
       "[3003 rows x 2 columns]"
      ]
     },
     "execution_count": 3,
     "metadata": {},
     "output_type": "execute_result"
    }
   ],
   "source": [
    "df"
   ]
  },
  {
   "cell_type": "code",
   "execution_count": 41,
   "id": "31e03fbe-c2b5-4b21-809d-de9c9805ced7",
   "metadata": {},
   "outputs": [
    {
     "name": "stdout",
     "output_type": "stream",
     "text": [
      "Train Accuracy: 0.9379683597002498\n",
      "Test Accuracy: 0.8202995008319468\n"
     ]
    }
   ],
   "source": [
    "from sklearn.feature_extraction.text import CountVectorizer\n",
    "from sklearn.naive_bayes import MultinomialNB\n",
    "\n",
    "cv = CountVectorizer(max_features=3000, stop_words='english')  \n",
    "X_train_count = cv.fit_transform(X_train.values)\n",
    "X_test_count = cv.transform(X_test.values)\n",
    "\n",
    "# Training with Multinomial Naive Bayes (alpha for smoothing)\n",
    "model = MultinomialNB(alpha=0.001)  \n",
    "model.fit(X_train_count, y_train)\n",
    "\n",
    "# Evaluate the model\n",
    "train_accuracy = model.score(X_train_count, y_train)\n",
    "test_accuracy = model.score(X_test_count, y_test)\n",
    "\n",
    "print(f\"Train Accuracy: {train_accuracy}\")\n",
    "print(f\"Test Accuracy: {test_accuracy}\")\n"
   ]
  },
  {
   "cell_type": "code",
   "execution_count": null,
   "id": "7c8a40ca-177b-48f4-9c4f-7e80e2875063",
   "metadata": {},
   "outputs": [],
   "source": []
  }
 ],
 "metadata": {
  "kernelspec": {
   "display_name": "Python 3 (ipykernel)",
   "language": "python",
   "name": "python3"
  },
  "language_info": {
   "codemirror_mode": {
    "name": "ipython",
    "version": 3
   },
   "file_extension": ".py",
   "mimetype": "text/x-python",
   "name": "python",
   "nbconvert_exporter": "python",
   "pygments_lexer": "ipython3",
   "version": "3.12.4"
  }
 },
 "nbformat": 4,
 "nbformat_minor": 5
}
