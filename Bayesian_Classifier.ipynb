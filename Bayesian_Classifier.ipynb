{
 "cells": [
  {
   "cell_type": "code",
   "execution_count": 19,
   "metadata": {},
   "outputs": [],
   "source": [
    "import numpy as np\n",
    "import math\n",
    "\n",
    "class NaiveBayes:\n",
    "  def __init__(self, output, ngram=1):\n",
    "    self.count = np.zeros((output, ngram))\n",
    "    self.prob = []\n",
    "    self.ngram = ngram\n",
    "    for i in range(output):\n",
    "      dicarr = []\n",
    "      for j in range(ngram):\n",
    "        dicarr.append({\"unk\": 1})\n",
    "      self.prob.append(dicarr)\n",
    "  \n",
    "  def calcProb1(self, i, x, ngram):\n",
    "    prob = 0\n",
    "    for k in range(len(x) - ngram):\n",
    "      word = ' '.join(x[k:k+ngram+1])\n",
    "      # print(k, ngram, word)\n",
    "      if word not in self.prob[i][ngram]:\n",
    "        prob += math.log(self.prob[i][ngram][\"unk\"] / self.count[i, ngram])\n",
    "      else:\n",
    "        prob += math.log(self.prob[i][ngram][word] / self.count[i, ngram])\n",
    "\n",
    "    counts = 0\n",
    "    for j in range(len(self.count[i])):\n",
    "      counts += self.count[i, j]\n",
    "\n",
    "    prob += math.log(self.count[i, ngram] / counts)\n",
    "\n",
    "    return prob\n",
    "  \n",
    "  def maxProb(self, x):\n",
    "    maxProb = -100000000000000000000\n",
    "    maxIndex = -1\n",
    "    for i in range(len(self.count)):\n",
    "      prob = 0\n",
    "      for j in range(self.ngram):\n",
    "        prob += self.calcProb1(i, x, j)\n",
    "      if prob > maxProb:\n",
    "        maxProb = prob\n",
    "        maxIndex = i\n",
    "    return maxIndex\n",
    "  \n",
    "  def trainNgram(self, x, y, ngram):\n",
    "    for i in range(len(x)):\n",
    "      for j in range(len(x[i]) - ngram):\n",
    "        self.count[y[i], ngram - 1] += 1\n",
    "        word = ' '.join(x[i][j:j+ngram+1])\n",
    "        if word not in self.prob[y[i]][ngram]:\n",
    "          self.prob[y[i]][ngram][word] = 1\n",
    "        else:\n",
    "          self.prob[y[i]][ngram][word] += 1\n",
    "  \n",
    "  def train(self, x, y):\n",
    "    for i in range(self.ngram):\n",
    "      self.trainNgram(x, y, i)\n",
    "\n",
    "  def predict(self, x):\n",
    "    # return (0 if self.maxProb(x) == 1 else 1)\n",
    "    return self.maxProb(x)\n",
    "  \n",
    "  def test(self, x, y):\n",
    "    correct = 0\n",
    "    for i in range(len(x)):\n",
    "      if self.predict(x[i]) == y[i]:\n",
    "        correct += 1\n",
    "    return correct / len(x)\n",
    "  \n",
    "  \n"
   ]
  },
  {
   "cell_type": "code",
   "execution_count": 20,
   "metadata": {},
   "outputs": [
    {
     "data": {
      "text/html": [
       "<div>\n",
       "<style scoped>\n",
       "    .dataframe tbody tr th:only-of-type {\n",
       "        vertical-align: middle;\n",
       "    }\n",
       "\n",
       "    .dataframe tbody tr th {\n",
       "        vertical-align: top;\n",
       "    }\n",
       "\n",
       "    .dataframe thead th {\n",
       "        text-align: right;\n",
       "    }\n",
       "</style>\n",
       "<table border=\"1\" class=\"dataframe\">\n",
       "  <thead>\n",
       "    <tr style=\"text-align: right;\">\n",
       "      <th></th>\n",
       "      <th>Text</th>\n",
       "      <th>Spam</th>\n",
       "    </tr>\n",
       "  </thead>\n",
       "  <tbody>\n",
       "    <tr>\n",
       "      <th>0</th>\n",
       "      <td>[date, wed, number, aug, number, number, numbe...</td>\n",
       "      <td>0</td>\n",
       "    </tr>\n",
       "    <tr>\n",
       "      <th>1</th>\n",
       "      <td>[martin, a, posted, tassos, papadopoulos, the,...</td>\n",
       "      <td>0</td>\n",
       "    </tr>\n",
       "    <tr>\n",
       "      <th>2</th>\n",
       "      <td>[man, threatens, explosion, in, moscow, thursd...</td>\n",
       "      <td>0</td>\n",
       "    </tr>\n",
       "    <tr>\n",
       "      <th>3</th>\n",
       "      <td>[klez, the, virus, that, won, t, die, already,...</td>\n",
       "      <td>0</td>\n",
       "    </tr>\n",
       "    <tr>\n",
       "      <th>4</th>\n",
       "      <td>[in, adding, cream, to, spaghetti, carbonara, ...</td>\n",
       "      <td>0</td>\n",
       "    </tr>\n",
       "    <tr>\n",
       "      <th>...</th>\n",
       "      <td>...</td>\n",
       "      <td>...</td>\n",
       "    </tr>\n",
       "    <tr>\n",
       "      <th>2995</th>\n",
       "      <td>[abc, s, good, morning, america, ranks, it, th...</td>\n",
       "      <td>1</td>\n",
       "    </tr>\n",
       "    <tr>\n",
       "      <th>2996</th>\n",
       "      <td>[hyperlink, hyperlink, hyperlink, let, mortgag...</td>\n",
       "      <td>1</td>\n",
       "    </tr>\n",
       "    <tr>\n",
       "      <th>2997</th>\n",
       "      <td>[thank, you, for, shopping, with, us, gifts, f...</td>\n",
       "      <td>1</td>\n",
       "    </tr>\n",
       "    <tr>\n",
       "      <th>2998</th>\n",
       "      <td>[the, famous, ebay, marketing, e, course, lear...</td>\n",
       "      <td>1</td>\n",
       "    </tr>\n",
       "    <tr>\n",
       "      <th>2999</th>\n",
       "      <td>[hello, this, is, chinese, traditional, 子, 件, ...</td>\n",
       "      <td>1</td>\n",
       "    </tr>\n",
       "  </tbody>\n",
       "</table>\n",
       "<p>3000 rows × 2 columns</p>\n",
       "</div>"
      ],
      "text/plain": [
       "                                                   Text  Spam\n",
       "0     [date, wed, number, aug, number, number, numbe...     0\n",
       "1     [martin, a, posted, tassos, papadopoulos, the,...     0\n",
       "2     [man, threatens, explosion, in, moscow, thursd...     0\n",
       "3     [klez, the, virus, that, won, t, die, already,...     0\n",
       "4     [in, adding, cream, to, spaghetti, carbonara, ...     0\n",
       "...                                                 ...   ...\n",
       "2995  [abc, s, good, morning, america, ranks, it, th...     1\n",
       "2996  [hyperlink, hyperlink, hyperlink, let, mortgag...     1\n",
       "2997  [thank, you, for, shopping, with, us, gifts, f...     1\n",
       "2998  [the, famous, ebay, marketing, e, course, lear...     1\n",
       "2999  [hello, this, is, chinese, traditional, 子, 件, ...     1\n",
       "\n",
       "[3000 rows x 2 columns]"
      ]
     },
     "execution_count": 20,
     "metadata": {},
     "output_type": "execute_result"
    }
   ],
   "source": [
    "import pandas as pd\n",
    "import re\n",
    "\n",
    "def remove_punctuation(text):\n",
    "    return re.sub(r'[^\\w\\s]', '', str(text).strip())\n",
    "\n",
    "def remove_extra_spaces(text):\n",
    "    return re.sub(' +', ' ', text)\n",
    "\n",
    "df = pd.read_csv('Data/spam_or_not_spam/spam_or_not_spam.csv')\n",
    "# df['Text'] = df['Message'] if not NaN else df['Subject']\n",
    "\n",
    "# df['Text'] = df['Message'].fillna(df['Subject'])\n",
    "\n",
    "# df = df.drop(columns=['Message', 'Subject', 'Message ID', 'Date'], axis=1)\n",
    "\n",
    "df[\"Text\"] = df[\"email\"].apply(remove_punctuation)\n",
    "df[\"Text\"] = df[\"Text\"].str.replace('\\n', ' ')\n",
    "df[\"Text\"] = df[\"Text\"].apply(remove_extra_spaces)\n",
    "df[\"Text\"] = df[\"Text\"].str.strip()\n",
    "df[\"Text\"] = df[\"Text\"].str.lower()\n",
    "df[\"Text\"] = df[\"Text\"].str.split(' ')\n",
    "\n",
    "df['Spam'] = df['label']\n",
    "\n",
    "df = df.drop(columns=['email', 'label'], axis=1)\n",
    "# df[\"Spam/Ham\"] = df[\"Spam/Ham\"].map({'spam': 1, 'ham': 0})\n",
    "\n",
    "df"
   ]
  },
  {
   "cell_type": "code",
   "execution_count": 21,
   "metadata": {},
   "outputs": [
    {
     "data": {
      "text/plain": [
       "Spam\n",
       "0    2500\n",
       "1     500\n",
       "Name: count, dtype: int64"
      ]
     },
     "execution_count": 21,
     "metadata": {},
     "output_type": "execute_result"
    }
   ],
   "source": [
    "df['Spam'].value_counts()"
   ]
  },
  {
   "cell_type": "code",
   "execution_count": 22,
   "metadata": {},
   "outputs": [],
   "source": [
    "X = df['Text']\n",
    "Y = df['Spam'].values\n",
    "\n",
    "random = np.random.permutation(len(X))\n",
    "theshold = int(0.9*len(random))\n",
    "X_train = [X[i] for i in random[0:theshold]]\n",
    "Y_train = Y[random[0:theshold]]\n",
    "\n",
    "X_test = [X[i] for i in random[theshold:]]\n",
    "Y_test = Y[random[theshold:]]\n",
    "\n",
    "# print(len(X_train), len(Y_train), len(X_test), len(Y_test))\n",
    "# print(Y_train[0:5])"
   ]
  },
  {
   "cell_type": "code",
   "execution_count": 23,
   "metadata": {},
   "outputs": [],
   "source": [
    "model = NaiveBayes(2, 1)\n",
    "model.train(X, Y)"
   ]
  },
  {
   "cell_type": "code",
   "execution_count": 24,
   "metadata": {},
   "outputs": [
    {
     "data": {
      "text/plain": [
       "0.9913333333333333"
      ]
     },
     "execution_count": 24,
     "metadata": {},
     "output_type": "execute_result"
    }
   ],
   "source": [
    "model.test(X, Y)"
   ]
  },
  {
   "cell_type": "code",
   "execution_count": 25,
   "metadata": {},
   "outputs": [
    {
     "name": "stdout",
     "output_type": "stream",
     "text": [
      "Train accuracy: 0.9911111111111112\n",
      "Test accuracy: 0.9933333333333333\n"
     ]
    }
   ],
   "source": [
    "print(\"Train accuracy:\", model.test(X_train, Y_train))\n",
    "print(\"Test accuracy:\", model.test(X_test, Y_test))"
   ]
  },
  {
   "cell_type": "code",
   "execution_count": 26,
   "metadata": {},
   "outputs": [],
   "source": [
    "# model.prob[1][3]"
   ]
  },
  {
   "cell_type": "code",
   "execution_count": null,
   "metadata": {},
   "outputs": [],
   "source": []
  }
 ],
 "metadata": {
  "kernelspec": {
   "display_name": "Python 3 (ipykernel)",
   "language": "python",
   "name": "python3"
  },
  "language_info": {
   "codemirror_mode": {
    "name": "ipython",
    "version": 3
   },
   "file_extension": ".py",
   "mimetype": "text/x-python",
   "name": "python",
   "nbconvert_exporter": "python",
   "pygments_lexer": "ipython3",
   "version": "3.12.3"
  }
 },
 "nbformat": 4,
 "nbformat_minor": 4
}
