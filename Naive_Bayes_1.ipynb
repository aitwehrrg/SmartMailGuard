{
 "cells": [
  {
   "cell_type": "code",
   "execution_count": 11,
   "metadata": {},
   "outputs": [],
   "source": [
    "import numpy as np\n",
    "import math\n",
    "\n",
    "class NaiveBayes:\n",
    "  def __init__(self, output, ngram=1):\n",
    "    self.count = np.zeros((output, ngram))\n",
    "    self.prob = []\n",
    "    self.ngram = ngram\n",
    "    for i in range(output):\n",
    "      dicarr = []\n",
    "      for j in range(ngram):\n",
    "        dicarr.append({\"unk\": 1})\n",
    "      self.prob.append(dicarr)\n",
    "  \n",
    "  def calcProb1(self, i, x, ngram):\n",
    "    prob = 0\n",
    "    for k in range(len(x) - ngram):\n",
    "      word = ' '.join(x[k:k+ngram+1])\n",
    "      # print(k, ngram, word)\n",
    "      if word not in self.prob[i][ngram]:\n",
    "        prob += math.log(self.prob[i][ngram][\"unk\"] / self.count[i, ngram])\n",
    "      else:\n",
    "        prob += math.log(self.prob[i][ngram][word] / self.count[i, ngram])\n",
    "\n",
    "    counts = 0\n",
    "    for j in range(len(self.count[i])):\n",
    "      counts += self.count[i, j]\n",
    "\n",
    "    prob += math.log(self.count[i, ngram] / counts)\n",
    "\n",
    "    return prob\n",
    "  \n",
    "  def maxProb(self, x):\n",
    "    maxProb = -100000000000000000000\n",
    "    maxIndex = -1\n",
    "    for i in range(len(self.count)):\n",
    "      prob = 0\n",
    "      for j in range(self.ngram):\n",
    "        prob += self.calcProb1(i, x, j)\n",
    "      if prob > maxProb:\n",
    "        maxProb = prob\n",
    "        maxIndex = i\n",
    "    return maxIndex\n",
    "  \n",
    "  def trainNgram(self, x, y, ngram):\n",
    "    for i in range(len(x)):\n",
    "      for j in range(len(x[i]) - ngram):\n",
    "        self.count[y[i], ngram - 1] += 1\n",
    "        word = ' '.join(x[i][j:j+ngram+1])\n",
    "        if word not in self.prob[y[i]][ngram]:\n",
    "          self.prob[y[i]][ngram][word] = 1\n",
    "        else:\n",
    "          self.prob[y[i]][ngram][word] += 1\n",
    "  \n",
    "  def train(self, x, y):\n",
    "    for i in range(self.ngram):\n",
    "      self.trainNgram(x, y, i)\n",
    "\n",
    "  def predict(self, x):\n",
    "    # return (0 if self.maxProb(x) == 1 else 1)\n",
    "    return self.maxProb(x)\n",
    "  \n",
    "  def test(self, x, y):\n",
    "    correct = 0\n",
    "    for i in range(len(x)):\n",
    "      if self.predict(x[i]) == y[i]:\n",
    "        correct += 1\n",
    "    return correct / len(x)\n",
    "  \n",
    "  def precision(self, x, y):\n",
    "    tp = 0\n",
    "    fp = 0\n",
    "    for i in range(len(x)):\n",
    "      if self.predict(x[i]) == 1 and y[i] == 1:\n",
    "        tp += 1\n",
    "      if self.predict(x[i]) == 1 and y[i] == 0:\n",
    "        fp += 1\n",
    "    return tp / (tp + fp)\n",
    "  \n",
    "  \n"
   ]
  },
  {
   "cell_type": "code",
   "execution_count": 12,
   "metadata": {},
   "outputs": [],
   "source": [
    "# import pandas as pd\n",
    "# import re\n",
    "\n",
    "# def remove_punctuation(text):\n",
    "#     return re.sub(r'[^\\w\\s]', '', str(text).strip())\n",
    "\n",
    "# def remove_extra_spaces(text):\n",
    "#     return re.sub(' +', ' ', text)\n",
    "\n",
    "# df = pd.read_csv('Data/spam_or_not_spam/spam_or_not_spam.csv')\n",
    "# # df['Text'] = df['Message'] if not NaN else df['Subject']\n",
    "\n",
    "# # df['Text'] = df['Message'].fillna(df['Subject'])\n",
    "\n",
    "# # df = df.drop(columns=['Message', 'Subject', 'Message ID', 'Date'], axis=1)\n",
    "\n",
    "# df[\"Text\"] = df[\"email\"].apply(remove_punctuation)\n",
    "# df[\"Text\"] = df[\"Text\"].str.replace('\\n', ' ')\n",
    "# df[\"Text\"] = df[\"Text\"].apply(remove_extra_spaces)\n",
    "# df[\"Text\"] = df[\"Text\"].str.strip()\n",
    "# df[\"Text\"] = df[\"Text\"].str.lower()\n",
    "# df[\"Text\"] = df[\"Text\"].str.split(' ')\n",
    "\n",
    "# df['Spam'] = df['label']\n",
    "\n",
    "# df = df.drop(columns=['email', 'label'], axis=1)\n",
    "# # df[\"Spam/Ham\"] = df[\"Spam/Ham\"].map({'spam': 1, 'ham': 0})\n",
    "\n",
    "# df"
   ]
  },
  {
   "cell_type": "code",
   "execution_count": 13,
   "metadata": {},
   "outputs": [
    {
     "data": {
      "text/html": [
       "<div>\n",
       "<style scoped>\n",
       "    .dataframe tbody tr th:only-of-type {\n",
       "        vertical-align: middle;\n",
       "    }\n",
       "\n",
       "    .dataframe tbody tr th {\n",
       "        vertical-align: top;\n",
       "    }\n",
       "\n",
       "    .dataframe thead th {\n",
       "        text-align: right;\n",
       "    }\n",
       "</style>\n",
       "<table border=\"1\" class=\"dataframe\">\n",
       "  <thead>\n",
       "    <tr style=\"text-align: right;\">\n",
       "      <th></th>\n",
       "      <th>Text</th>\n",
       "      <th>Spam</th>\n",
       "    </tr>\n",
       "  </thead>\n",
       "  <tbody>\n",
       "    <tr>\n",
       "      <th>0</th>\n",
       "      <td>[christmas, tree, farm, pictures]</td>\n",
       "      <td>0</td>\n",
       "    </tr>\n",
       "    <tr>\n",
       "      <th>1</th>\n",
       "      <td>[gary, production, from, the, high, island, la...</td>\n",
       "      <td>0</td>\n",
       "    </tr>\n",
       "    <tr>\n",
       "      <th>2</th>\n",
       "      <td>[calpine, daily, gas, nomination, 1, doc]</td>\n",
       "      <td>0</td>\n",
       "    </tr>\n",
       "    <tr>\n",
       "      <th>3</th>\n",
       "      <td>[fyi, see, note, below, already, done, stella,...</td>\n",
       "      <td>0</td>\n",
       "    </tr>\n",
       "    <tr>\n",
       "      <th>4</th>\n",
       "      <td>[fyi, forwarded, by, lauri, a, allen, hou, ect...</td>\n",
       "      <td>0</td>\n",
       "    </tr>\n",
       "    <tr>\n",
       "      <th>...</th>\n",
       "      <td>...</td>\n",
       "      <td>...</td>\n",
       "    </tr>\n",
       "    <tr>\n",
       "      <th>33711</th>\n",
       "      <td>[hello, welcome, to, gigapharm, onlinne, shop,...</td>\n",
       "      <td>1</td>\n",
       "    </tr>\n",
       "    <tr>\n",
       "      <th>33712</th>\n",
       "      <td>[i, got, it, earlier, than, expected, and, it,...</td>\n",
       "      <td>1</td>\n",
       "    </tr>\n",
       "    <tr>\n",
       "      <th>33713</th>\n",
       "      <td>[are, you, ready, to, rock, on, let, the, man,...</td>\n",
       "      <td>1</td>\n",
       "    </tr>\n",
       "    <tr>\n",
       "      <th>33714</th>\n",
       "      <td>[learn, how, to, last, 5, 10, times, longer, i...</td>\n",
       "      <td>1</td>\n",
       "    </tr>\n",
       "    <tr>\n",
       "      <th>33715</th>\n",
       "      <td>[hi, do, you, need, some, softwares, i, can, g...</td>\n",
       "      <td>1</td>\n",
       "    </tr>\n",
       "  </tbody>\n",
       "</table>\n",
       "<p>33716 rows × 2 columns</p>\n",
       "</div>"
      ],
      "text/plain": [
       "                                                    Text  Spam\n",
       "0                      [christmas, tree, farm, pictures]     0\n",
       "1      [gary, production, from, the, high, island, la...     0\n",
       "2              [calpine, daily, gas, nomination, 1, doc]     0\n",
       "3      [fyi, see, note, below, already, done, stella,...     0\n",
       "4      [fyi, forwarded, by, lauri, a, allen, hou, ect...     0\n",
       "...                                                  ...   ...\n",
       "33711  [hello, welcome, to, gigapharm, onlinne, shop,...     1\n",
       "33712  [i, got, it, earlier, than, expected, and, it,...     1\n",
       "33713  [are, you, ready, to, rock, on, let, the, man,...     1\n",
       "33714  [learn, how, to, last, 5, 10, times, longer, i...     1\n",
       "33715  [hi, do, you, need, some, softwares, i, can, g...     1\n",
       "\n",
       "[33716 rows x 2 columns]"
      ]
     },
     "execution_count": 13,
     "metadata": {},
     "output_type": "execute_result"
    }
   ],
   "source": [
    "import pandas as pd\n",
    "import re\n",
    "\n",
    "def remove_punctuation(text):\n",
    "    return re.sub(r'[^\\w\\s]', '', str(text).strip())\n",
    "\n",
    "def remove_extra_spaces(text):\n",
    "    return re.sub(' +', ' ', text)\n",
    "\n",
    "df = pd.read_csv('Data/enron_spam_data/enron_spam_data.csv')\n",
    "# df['Text'] = df['Message'] if not NaN else df['Subject']\n",
    "\n",
    "df['Text'] = df['Message'].fillna(df['Subject'])\n",
    "\n",
    "df = df.drop(columns=['Message', 'Subject', 'Message ID', 'Date'], axis=1)\n",
    "\n",
    "df[\"Text\"] = df[\"Text\"].apply(remove_punctuation)\n",
    "df[\"Text\"] = df[\"Text\"].str.replace('\\n', ' ')\n",
    "df[\"Text\"] = df[\"Text\"].apply(remove_extra_spaces)\n",
    "df[\"Text\"] = df[\"Text\"].str.strip()\n",
    "df[\"Text\"] = df[\"Text\"].str.lower()\n",
    "df[\"Text\"] = df[\"Text\"].str.split(' ')\n",
    "\n",
    "df[\"Spam\"] = df[\"Spam/Ham\"].map({'spam': 1, 'ham': 0})\n",
    "\n",
    "df = df.drop('Spam/Ham', axis=1)\n",
    "\n",
    "df"
   ]
  },
  {
   "cell_type": "code",
   "execution_count": 14,
   "metadata": {},
   "outputs": [
    {
     "data": {
      "text/plain": [
       "Spam\n",
       "1    17171\n",
       "0    16545\n",
       "Name: count, dtype: int64"
      ]
     },
     "execution_count": 14,
     "metadata": {},
     "output_type": "execute_result"
    }
   ],
   "source": [
    "df['Spam'].value_counts()"
   ]
  },
  {
   "cell_type": "code",
   "execution_count": 15,
   "metadata": {},
   "outputs": [],
   "source": [
    "X = df['Text']\n",
    "Y = df['Spam'].values\n",
    "\n",
    "random = np.random.permutation(len(X))\n",
    "theshold = int(0.9*len(random))\n",
    "X_train = [X[i] for i in random[0:theshold]]\n",
    "Y_train = Y[random[0:theshold]]\n",
    "\n",
    "X_test = [X[i] for i in random[theshold:]]\n",
    "Y_test = Y[random[theshold:]]\n",
    "\n",
    "# print(len(X_train), len(Y_train), len(X_test), len(Y_test))\n",
    "# print(Y_train[0:5])"
   ]
  },
  {
   "cell_type": "code",
   "execution_count": 16,
   "metadata": {},
   "outputs": [],
   "source": [
    "model = NaiveBayes(2, 4)\n",
    "model.train(X_train, Y_train)"
   ]
  },
  {
   "cell_type": "code",
   "execution_count": 17,
   "metadata": {},
   "outputs": [],
   "source": [
    "# model.test(X, Y)"
   ]
  },
  {
   "cell_type": "code",
   "execution_count": 18,
   "metadata": {},
   "outputs": [
    {
     "name": "stdout",
     "output_type": "stream",
     "text": [
      "Train accuracy: 0.991003163722647\n",
      "Test accuracy: 0.9881376037959668\n",
      "Train precision: 0.9888609877020154\n",
      "Test precision: 0.9832466782206817\n"
     ]
    }
   ],
   "source": [
    "print(\"Train accuracy:\", model.test(X_train, Y_train))\n",
    "print(\"Test accuracy:\", model.test(X_test, Y_test))\n",
    "\n",
    "print(\"Train precision:\", model.precision(X_train, Y_train))\n",
    "print(\"Test precision:\", model.precision(X_test, Y_test))"
   ]
  },
  {
   "cell_type": "code",
   "execution_count": 19,
   "metadata": {},
   "outputs": [],
   "source": [
    "# model.prob[1][3]"
   ]
  },
  {
   "cell_type": "code",
   "execution_count": 20,
   "metadata": {},
   "outputs": [
    {
     "data": {
      "text/plain": [
       "'this is a'"
      ]
     },
     "execution_count": 20,
     "metadata": {},
     "output_type": "execute_result"
    }
   ],
   "source": [
    "'the', 'is', 'a'\n",
    "'the is', 'is a'\n",
    "'this is a'"
   ]
  }
 ],
 "metadata": {
  "kernelspec": {
   "display_name": "Python 3",
   "language": "python",
   "name": "python3"
  },
  "language_info": {
   "codemirror_mode": {
    "name": "ipython",
    "version": 3
   },
   "file_extension": ".py",
   "mimetype": "text/x-python",
   "name": "python",
   "nbconvert_exporter": "python",
   "pygments_lexer": "ipython3",
   "version": "3.12.4"
  }
 },
 "nbformat": 4,
 "nbformat_minor": 2
}
